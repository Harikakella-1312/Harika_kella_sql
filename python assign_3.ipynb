{
 "cells": [
  {
   "cell_type": "code",
   "execution_count": 11,
   "id": "417d317c-cf7f-475b-8262-af302f7c05f6",
   "metadata": {},
   "outputs": [
    {
     "name": "stdout",
     "output_type": "stream",
     "text": [
      "[{'name': 'Alice', 'total_spending': 425, 'average_transaction': 141.66666666666666}, {'name': 'Bob', 'total_spending': 150, 'average_transaction': 37.5}, {'name': 'Charlie', 'total_spending': 2250, 'average_transaction': 750.0}, {'name': 'Diana', 'total_spending': 25, 'average_transaction': 25.0}]\n"
     ]
    }
   ],
   "source": [
    " customers = [\n",
    "    {\"id\": 1, \"name\": \"Alice\", \"transactions\": [100, 250, 75], \"signup_date\": \"2023-01-15\"},\n",
    "    {\"id\": 2, \"name\": \"Bob\", \"transactions\": [50, 25, 30, 45], \"signup_date\": \"2023-06-20\"},\n",
    "    {\"id\": 3, \"name\": \"Charlie\", \"transactions\": [500, 750, 1000], \"signup_date\": \"2022-12-01\"},\n",
    "    {\"id\": 4, \"name\": \"Diana\", \"transactions\": [25], \"signup_date\": \"2023-11-01\"}\n",
    "]\n",
    "#1. Use map() to calculate total spending and average transaction value for each customer\n",
    "transaction_result = list(\n",
    "    map(lambda c: {\n",
    "        \"name\": c[\"name\"],\n",
    "        \"total_spending\": sum(c[\"transactions\"]),\n",
    "        \"avg_transaction\": sum(c[\"transactions\"]) / len(c[\"transactions\"])\n",
    "    }, customers)\n",
    ")\n",
    "\n",
    "print(transaction_result )\n",
    "#Use filter() to segment customers into \"high-value\" (total > $500) and \"frequent\" (>3 transactions)\n",
    "#Use sorted() to rank customers by their lifetime value"
   ]
  },
  {
   "cell_type": "code",
   "execution_count": 35,
   "id": "275dc6b5-77b9-4fa7-baaa-b4f40da9214a",
   "metadata": {},
   "outputs": [
    {
     "name": "stdout",
     "output_type": "stream",
     "text": [
      "[{'id': 3, 'name': 'Charlie', 'transactions': [500, 750, 1000], 'signup_date': '2022-12-01'}]\n",
      "[{'id': 2, 'name': 'Bob', 'transactions': [50, 25, 30, 45], 'signup_date': '2023-06-20'}]\n"
     ]
    }
   ],
   "source": [
    "#2. Use filter() to segment customers into \"high-value\" (total > $500) and \"frequent\" (>3 transactions)\n",
    "customers = [\n",
    "    {\"id\": 1, \"name\": \"Alice\", \"transactions\": [100, 250, 75], \"signup_date\": \"2023-01-15\"},\n",
    "    {\"id\": 2, \"name\": \"Bob\", \"transactions\": [50, 25, 30, 45], \"signup_date\": \"2023-06-20\"},\n",
    "    {\"id\": 3, \"name\": \"Charlie\", \"transactions\": [500, 750, 1000], \"signup_date\": \"2022-12-01\"},\n",
    "    {\"id\": 4, \"name\": \"Diana\", \"transactions\": [25], \"signup_date\": \"2023-11-01\"}]\n",
    "high_value_customer= list(filter(lambda s: sum(s[\"transactions\"])>500, customers))\n",
    "frequent_customers=list(filter(lambda s: len(s[\"transactions\"])>3, customers))\n",
    "print(high_value_customer)\n",
    "print(frequent_customers)\n"
   ]
  },
  {
   "cell_type": "code",
   "execution_count": null,
   "id": "02c00410-1b37-4d7d-ad4e-70dfcd3f48e1",
   "metadata": {},
   "outputs": [],
   "source": [
    "#3.Use sorted() to rank customers by their lifetime value\n"
   ]
  },
  {
   "cell_type": "code",
   "execution_count": 43,
   "id": "a7d30e4a-a419-429c-b8fb-ffa48da7d34e",
   "metadata": {},
   "outputs": [
    {
     "name": "stdout",
     "output_type": "stream",
     "text": [
      "[{'sensor_id': 'temp_001', 'value': 23.5, 'timestamp': 1640995200, 'status': 'normal'}, {'sensor_id': 'humidity_001', 'value': 65.2, 'timestamp': 1640995320, 'status': 'normal'}, {'sensor_id': 'temp_003', 'value': 45.8, 'timestamp': 1640995380, 'status': 'warning'}]\n"
     ]
    }
   ],
   "source": [
    "sensor_readings = [\n",
    "    {\"sensor_id\": \"temp_001\", \"value\": 23.5, \"timestamp\": 1640995200, \"status\": \"normal\"},\n",
    "    {\"sensor_id\": \"temp_002\", \"value\": -999, \"timestamp\": 1640995260, \"status\": \"error\"},\n",
    "    {\"sensor_id\": \"humidity_001\", \"value\": 65.2, \"timestamp\": 1640995320, \"status\": \"normal\"},\n",
    "    {\"sensor_id\": \"temp_003\", \"value\": 45.8, \"timestamp\": 1640995380, \"status\": \"warning\"},\n",
    "    {\"sensor_id\": \"pressure_001\", \"value\": None, \"timestamp\": 1640995440, \"status\": \"offline\"}\n",
    "]\n",
    "\n",
    "#Use filter() to remove readings with status \"error\" or \"offline\n",
    "\n",
    "readings_status = list(filter(lambda r: r[\"status\"] not in [\"error\",\"offline\"],sensor_readings))\n",
    "print(readings_status)\n",
    "\n"
   ]
  },
  {
   "cell_type": "code",
   "execution_count": 47,
   "id": "0d549e1b-6856-4c17-b27c-3629f5d945e8",
   "metadata": {},
   "outputs": [
    {
     "name": "stdout",
     "output_type": "stream",
     "text": [
      "[{'sensor_id': 'temp_001', 'value': 23.5, 'timestamp': '2021-12-31 18:00:00', 'status': 'normal'}, {'sensor_id': 'temp_002', 'value': -999, 'timestamp': '2021-12-31 18:01:00', 'status': 'error'}, {'sensor_id': 'humidity_001', 'value': 65.2, 'timestamp': '2021-12-31 18:02:00', 'status': 'normal'}, {'sensor_id': 'temp_003', 'value': 45.8, 'timestamp': '2021-12-31 18:03:00', 'status': 'warning'}, {'sensor_id': 'pressure_001', 'value': None, 'timestamp': '2021-12-31 18:04:00', 'status': 'offline'}]\n"
     ]
    }
   ],
   "source": [
    "#Use map() to convert timestamps to readable datetime strings\n",
    "\n",
    "from datetime import datetime\n",
    "sensor_readings = [\n",
    "    {\"sensor_id\": \"temp_001\", \"value\": 23.5, \"timestamp\": 1640995200, \"status\": \"normal\"},\n",
    "    {\"sensor_id\": \"temp_002\", \"value\": -999, \"timestamp\": 1640995260, \"status\": \"error\"},\n",
    "    {\"sensor_id\": \"humidity_001\", \"value\": 65.2, \"timestamp\": 1640995320, \"status\": \"normal\"},\n",
    "    {\"sensor_id\": \"temp_003\", \"value\": 45.8, \"timestamp\": 1640995380, \"status\": \"warning\"},\n",
    "    {\"sensor_id\": \"pressure_001\", \"value\": None, \"timestamp\": 1640995440, \"status\": \"offline\"}\n",
    "]\n",
    "datetime_string=list(map(lambda d: {**d, \"timestamp\": datetime.fromtimestamp(d[\"timestamp\"]).strftime(\"%Y-%m-%d %H:%M:%S\")},\n",
    "        sensor_readings))\n",
    "print(datetime_string)\n",
    "                                    "
   ]
  },
  {
   "cell_type": "code",
   "execution_count": 69,
   "id": "5db6c672-d3f5-4363-9b64-3709d49dce70",
   "metadata": {},
   "outputs": [
    {
     "name": "stdout",
     "output_type": "stream",
     "text": [
      "[{'sensor_id': 'humidity_001', 'value': 65.2, 'timestamp': '2021-12-31 18:02:00', 'status': 'normal'}, {'sensor_id': 'pressure_001', 'value': None, 'timestamp': '2021-12-31 18:04:00', 'status': 'offline'}, {'sensor_id': 'temp_001', 'value': 23.5, 'timestamp': '2021-12-31 18:00:00', 'status': 'normal'}, {'sensor_id': 'temp_002', 'value': -999, 'timestamp': '2021-12-31 18:01:00', 'status': 'error'}, {'sensor_id': 'temp_003', 'value': 45.8, 'timestamp': '2021-12-31 18:03:00', 'status': 'warning'}]\n"
     ]
    }
   ],
   "source": [
    "#Use sorted() to sort by sensor_id and then by timestamp\n",
    "sensor_readings = [\n",
    "    {\"sensor_id\": \"temp_001\", \"value\": 23.5, \"timestamp\": 1640995200, \"status\": \"normal\"},\n",
    "    {\"sensor_id\": \"temp_002\", \"value\": -999, \"timestamp\": 1640995260, \"status\": \"error\"},\n",
    "    {\"sensor_id\": \"humidity_001\", \"value\": 65.2, \"timestamp\": 1640995320, \"status\": \"normal\"},\n",
    "    {\"sensor_id\": \"temp_003\", \"value\": 45.8, \"timestamp\": 1640995380, \"status\": \"warning\"},\n",
    "    {\"sensor_id\": \"pressure_001\", \"value\": None, \"timestamp\": 1640995440, \"status\": \"offline\"}\n",
    "]\n",
    "sensor_readings=sorted(sensor_readings, key=lambda x:(x[\"sensor_id\"], x[\"status\"]))\n",
    "for reading in sensor_readings:\n",
    "    reading[\"timestamp\"]=datetime.fromtimestamp(reading[\"timestamp\"]).strftime(\"%Y-%m-%d %H:%M:%S\")\n",
    "print(sensor_readings)\n",
    "\n"
   ]
  },
  {
   "cell_type": "code",
   "execution_count": 71,
   "id": "66d89cb2-f4ab-4614-a4b3-40a86af81320",
   "metadata": {},
   "outputs": [
    {
     "name": "stdout",
     "output_type": "stream",
     "text": [
      "[{'product': 'laptop', 'total_revenue': 14999.85}, {'product': 'mouse', 'total_revenue': 1299.5}, {'product': 'laptop', 'total_revenue': 10399.92}, {'product': 'keyboard', 'total_revenue': 2399.7}, {'product': 'monitor', 'total_revenue': 3599.88}]\n"
     ]
    }
   ],
   "source": [
    "sales_data = [\n",
    "    {\"region\": \"North\", \"product\": \"laptop\", \"quantity\": 15, \"price\": 999.99, \"date\": \"2023-12-01\"},\n",
    "    {\"region\": \"South\", \"product\": \"mouse\", \"quantity\": 50, \"price\": 25.99, \"date\": \"2023-12-01\"},\n",
    "    {\"region\": \"East\", \"product\": \"laptop\", \"quantity\": 8, \"price\": 1299.99, \"date\": \"2023-12-02\"},\n",
    "    {\"region\": \"West\", \"product\": \"keyboard\", \"quantity\": 30, \"price\": 79.99, \"date\": \"2023-12-01\"},\n",
    "    {\"region\": \"North\", \"product\": \"monitor\", \"quantity\": 12, \"price\": 299.99, \"date\": \"2023-12-02\"}\n",
    "]\n",
    "\n",
    "#Use map() to calculate total revenue for each sale (quantity × price)\n",
    "result=list(map(lambda x: { \"product\": x[\"product\"],\"total_revenue\" :x[\"quantity\"]* x[\"price\"]},sales_data))\n",
    "\n",
    "print(result)"
   ]
  },
  {
   "cell_type": "code",
   "execution_count": 85,
   "id": "a3bfb884-8d2b-40d4-956e-181a08cb2538",
   "metadata": {},
   "outputs": [
    {
     "name": "stdout",
     "output_type": "stream",
     "text": [
      "[{'region': 'North', 'product': 'laptop', 'quantity': 15, 'price': 999.99, 'date': '2023-12-01'}, {'region': 'South', 'product': 'mouse', 'quantity': 50, 'price': 25.99, 'date': '2023-12-01'}, {'region': 'North', 'product': 'monitor', 'quantity': 12, 'price': 299.99, 'date': '2023-12-02'}]\n"
     ]
    }
   ],
   "source": [
    "#Use filter() to get only sales from \"North\" and \"South\" regions with revenue > $1000\n",
    "sales_data = [\n",
    "    {\"region\": \"North\", \"product\": \"laptop\", \"quantity\": 15, \"price\": 999.99, \"date\": \"2023-12-01\"},\n",
    "    {\"region\": \"South\", \"product\": \"mouse\", \"quantity\": 50, \"price\": 25.99, \"date\": \"2023-12-01\"},\n",
    "    {\"region\": \"East\", \"product\": \"laptop\", \"quantity\": 8, \"price\": 1299.99, \"date\": \"2023-12-02\"},\n",
    "    {\"region\": \"West\", \"product\": \"keyboard\", \"quantity\": 30, \"price\": 79.99, \"date\": \"2023-12-01\"},\n",
    "    {\"region\": \"North\", \"product\": \"monitor\", \"quantity\": 12, \"price\": 299.99, \"date\": \"2023-12-02\"}\n",
    "]\n",
    "filtered_result=list(filter(lambda t: t[\"region\"] in [\"North\", \"South\"] and (t[\"quantity\"]*t[\"price\"]) >=1000,sales_data))\n",
    "print(filtered_result)\n",
    "\n",
    "                                       "
   ]
  },
  {
   "cell_type": "code",
   "execution_count": 91,
   "id": "4aa61870-55e2-4320-9bfc-9f588416b800",
   "metadata": {},
   "outputs": [
    {
     "name": "stdout",
     "output_type": "stream",
     "text": [
      "[{'region': 'North', 'product': 'laptop', 'quantity': 15, 'price': 999.99, 'date': '2023-12-01'}, {'region': 'East', 'product': 'laptop', 'quantity': 8, 'price': 1299.99, 'date': '2023-12-02'}, {'region': 'North', 'product': 'monitor', 'quantity': 12, 'price': 299.99, 'date': '2023-12-02'}, {'region': 'West', 'product': 'keyboard', 'quantity': 30, 'price': 79.99, 'date': '2023-12-01'}, {'region': 'South', 'product': 'mouse', 'quantity': 50, 'price': 25.99, 'date': '2023-12-01'}]\n"
     ]
    }
   ],
   "source": [
    "#Use sorted() to sort by revenue in descending order\n",
    "sales_data = [\n",
    "    {\"region\": \"North\", \"product\": \"laptop\", \"quantity\": 15, \"price\": 999.99, \"date\": \"2023-12-01\"},\n",
    "    {\"region\": \"South\", \"product\": \"mouse\", \"quantity\": 50, \"price\": 25.99, \"date\": \"2023-12-01\"},\n",
    "    {\"region\": \"East\", \"product\": \"laptop\", \"quantity\": 8, \"price\": 1299.99, \"date\": \"2023-12-02\"},\n",
    "    {\"region\": \"West\", \"product\": \"keyboard\", \"quantity\": 30, \"price\": 79.99, \"date\": \"2023-12-01\"},\n",
    "    {\"region\": \"North\", \"product\": \"monitor\", \"quantity\": 12, \"price\": 299.99, \"date\": \"2023-12-02\"}\n",
    "]\n",
    "sorted_revenue=sorted(sales_data,key=lambda x:x[\"quantity\"]*x[\"price\"],reverse=True)\n",
    "print(sorted_revenue)"
   ]
  },
  {
   "cell_type": "code",
   "execution_count": 103,
   "id": "49588dd5-e02c-47a0-801c-4969d20f3564",
   "metadata": {},
   "outputs": [
    {
     "name": "stdout",
     "output_type": "stream",
     "text": [
      "{'region': 'North', 'product': 'laptop', 'quantity': 15, 'price': 999.99, 'date': '2023-12-01', 'revenue': 14999.85}\n",
      "{'region': 'East', 'product': 'laptop', 'quantity': 8, 'price': 1299.99, 'date': '2023-12-02', 'revenue': 10399.92}\n",
      "{'region': 'North', 'product': 'monitor', 'quantity': 12, 'price': 299.99, 'date': '2023-12-02', 'revenue': 3599.88}\n"
     ]
    }
   ],
   "source": [
    "#Create a function that processes this data and returns the top 3 sales\n",
    "sales_data = [\n",
    "    {\"region\": \"North\", \"product\": \"laptop\", \"quantity\": 15, \"price\": 999.99, \"date\": \"2023-12-01\"},\n",
    "    {\"region\": \"South\", \"product\": \"mouse\", \"quantity\": 50, \"price\": 25.99, \"date\": \"2023-12-01\"},\n",
    "    {\"region\": \"East\", \"product\": \"laptop\", \"quantity\": 8, \"price\": 1299.99, \"date\": \"2023-12-02\"},\n",
    "    {\"region\": \"West\", \"product\": \"keyboard\", \"quantity\": 30, \"price\": 79.99, \"date\": \"2023-12-01\"},\n",
    "    {\"region\": \"North\", \"product\": \"monitor\", \"quantity\": 12, \"price\": 299.99, \"date\": \"2023-12-02\"}\n",
    "]\n",
    "def top_sale(data, top_n=3):\n",
    "    sales_with_revenue = list(map(lambda s: {**s, \"revenue\": s[\"quantity\"] * s[\"price\"]}, data))\n",
    "    return sorted(sales_with_revenue, key=lambda x:x[\"revenue\"], reverse=True)[:top_n]\n",
    "\n",
    "top_3 = top_sale(sales_data)\n",
    "for sale in top_3:\n",
    "    print(sale)"
   ]
  },
  {
   "cell_type": "code",
   "execution_count": null,
   "id": "b1223b94-476e-47ba-86de-2e659171b0c2",
   "metadata": {},
   "outputs": [],
   "source": []
  },
  {
   "cell_type": "code",
   "execution_count": null,
   "id": "77aeb551-0e8c-4722-8f30-c45eaa1c62c7",
   "metadata": {},
   "outputs": [],
   "source": []
  },
  {
   "cell_type": "code",
   "execution_count": null,
   "id": "b1cebeac-c91a-4fe0-b57a-2a9a20daa56f",
   "metadata": {},
   "outputs": [],
   "source": []
  },
  {
   "cell_type": "code",
   "execution_count": null,
   "id": "ba0b7858-a941-4463-9433-1971661ba079",
   "metadata": {},
   "outputs": [],
   "source": []
  },
  {
   "cell_type": "code",
   "execution_count": null,
   "id": "019b53f5-a743-482a-bc88-51401a06afb3",
   "metadata": {},
   "outputs": [],
   "source": []
  }
 ],
 "metadata": {
  "kernelspec": {
   "display_name": "Python [conda env:base] *",
   "language": "python",
   "name": "conda-base-py"
  },
  "language_info": {
   "codemirror_mode": {
    "name": "ipython",
    "version": 3
   },
   "file_extension": ".py",
   "mimetype": "text/x-python",
   "name": "python",
   "nbconvert_exporter": "python",
   "pygments_lexer": "ipython3",
   "version": "3.12.7"
  }
 },
 "nbformat": 4,
 "nbformat_minor": 5
}
