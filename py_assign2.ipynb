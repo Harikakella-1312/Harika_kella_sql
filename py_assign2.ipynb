{
 "cells": [
  {
   "cell_type": "code",
   "execution_count": 5,
   "id": "0734b39b-c0f7-4a59-b10b-376717a0e83f",
   "metadata": {},
   "outputs": [
    {
     "name": "stdout",
     "output_type": "stream",
     "text": [
      "[90, 95, 83, 70]\n",
      "[85, 90, 78]\n"
     ]
    }
   ],
   "source": [
    "#Q1. grades = [85, 90, 78, 65]\n",
    "#Increase all grades by adding 5 points and filter students who passed the exam(>=70).\n",
    "\n",
    "grades = [85, 90, 78, 65]\n",
    "increase_grades=list(map(lambda g:g+5,grades))\n",
    "passed_students=list(filter(lambda g:g>=70,grades))\n",
    "print(increase_grades)\n",
    "print(passed_students)"
   ]
  },
  {
   "cell_type": "code",
   "execution_count": 11,
   "id": "08809024-441a-4ed8-bb86-db50016e0bfd",
   "metadata": {
    "scrolled": true
   },
   "outputs": [
    {
     "name": "stdout",
     "output_type": "stream",
     "text": [
      "{'product_id': 'B202', 'customer_id': 'C004', 'purchase_price': 150.5, 'quantity': 2, 'purchase_date': datetime.datetime(2025, 7, 13, 0, 0), 'revenue': 301.0}\n",
      "{'product_id': 'A101', 'customer_id': 'C003', 'purchase_price': 50.0, 'quantity': 5, 'purchase_date': datetime.datetime(2025, 7, 12, 0, 0), 'revenue': 250.0}\n"
     ]
    }
   ],
   "source": [
    "# calculate the total revenue for each sale and identify \"high value\" sales, which are defined \n",
    "# as sales with a total revenue of more than $200. Finally order them on the highest total revenue to the lowest.\n",
    "\n",
    "from datetime import datetime \n",
    "sales_data = [\n",
    "   {'product_id': 'A101', 'customer_id': 'C001', 'purchase_price': 50.00, 'quantity': 2, 'purchase_date': datetime(2025, 7, 10)},\n",
    "   {'product_id': 'B202', 'customer_id': 'C002', 'purchase_price': 150.50, 'quantity': 1, 'purchase_date': datetime(2025, 7, 11)},\n",
    "   {'product_id': 'A101', 'customer_id': 'C003', 'purchase_price': 50.00, 'quantity': 5, 'purchase_date': datetime(2025, 7, 12)},\n",
    "   {'product_id': 'C303', 'customer_id': 'C001', 'purchase_price': 25.75, 'quantity': 3, 'purchase_date': datetime(2025, 7, 12)},\n",
    "   {'product_id': 'B202', 'customer_id': 'C004', 'purchase_price': 150.50, 'quantity': 2, 'purchase_date': datetime(2025, 7, 13)},\n",
    "   {'product_id': 'D404', 'customer_id': 'C005', 'purchase_price': 10.00, 'quantity': 10, 'purchase_date': datetime(2025, 7, 13)}\n",
    "]\n",
    "\n",
    "each_sale_revenue = list(map(lambda x:{**x, 'revenue':x['purchase_price'] * x['quantity']},sales_data))\n",
    "\n",
    "high_value_sales = list(filter(lambda x: x['revenue'] > 200,each_sale_revenue))\n",
    "\n",
    "sorted_revenues = sorted(high_value_sales, key=lambda x:x['revenue'],reverse=True)\n",
    "\n",
    "for x in sorted_revenues:\n",
    "    print(x)\n",
    "    \n",
    " \n"
   ]
  },
  {
   "cell_type": "code",
   "execution_count": 13,
   "id": "2eb6b189-6c30-4c68-aaee-b57b7c0ae923",
   "metadata": {},
   "outputs": [
    {
     "name": "stdout",
     "output_type": "stream",
     "text": [
      "[25.1, 24.0, 26.3]\n"
     ]
    }
   ],
   "source": [
    "# Given a list of temperature readings from IoT sensors:\n",
    "\n",
    "# readings = [22.5, 23.0, 21.8, 25.1, 19.5, 24.0, 26.3]\n",
    "\n",
    "\n",
    "# Q3. Use filter() to extract readings above 24°C\n",
    "\n",
    "readings = [22.5, 23.0, 21.8, 25.1, 19.5, 24.0, 26.3]\n",
    "readings_above_24 = list(filter(lambda g:g>=24,readings))\n",
    "print(readings_above_24 )"
   ]
  },
  {
   "cell_type": "code",
   "execution_count": 17,
   "id": "e52b6670-c42f-487c-b04c-b0ea0336083c",
   "metadata": {},
   "outputs": [
    {
     "name": "stdout",
     "output_type": "stream",
     "text": [
      "[72.5, 73.4, 71.24000000000001, 77.18, 67.1, 75.2, 79.34]\n"
     ]
    }
   ],
   "source": [
    "#q4. Use map() to convert Celsius to Fahrenheit.\n",
    "\n",
    "readings = [22.5, 23.0, 21.8, 25.1, 19.5, 24.0, 26.3]\n",
    "\n",
    "celsius_to_fahrenheit=list(map(lambda c:(c*(9/5)+32),readings))\n",
    "print(celsius_to_fahrenheit)"
   ]
  },
  {
   "cell_type": "code",
   "execution_count": 19,
   "id": "d3243ba0-6130-4880-8faf-57b572af5f4c",
   "metadata": {},
   "outputs": [
    {
     "name": "stdout",
     "output_type": "stream",
     "text": [
      "[77.18, 79.34]\n"
     ]
    }
   ],
   "source": [
    "#q5. Combine filter() and map() to return Fahrenheit values for readings above 24°C.\n",
    "readings = [22.5, 23.0, 21.8, 25.1, 19.5, 24.0, 26.3]\n",
    "\n",
    "celsius_to_fahrenheit=list(map(lambda c:(c*(9/5)+32),filter(lambda c:c>24,readings)))\n",
    "\n",
    "print(celsius_to_fahrenheit)\n",
    "\n",
    "\n"
   ]
  },
  {
   "cell_type": "code",
   "execution_count": null,
   "id": "050d5625-a576-47e9-95e4-cc206a452e19",
   "metadata": {},
   "outputs": [],
   "source": []
  }
 ],
 "metadata": {
  "kernelspec": {
   "display_name": "Python [conda env:base] *",
   "language": "python",
   "name": "conda-base-py"
  },
  "language_info": {
   "codemirror_mode": {
    "name": "ipython",
    "version": 3
   },
   "file_extension": ".py",
   "mimetype": "text/x-python",
   "name": "python",
   "nbconvert_exporter": "python",
   "pygments_lexer": "ipython3",
   "version": "3.12.7"
  }
 },
 "nbformat": 4,
 "nbformat_minor": 5
}
