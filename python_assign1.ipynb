{
 "cells": [
  {
   "cell_type": "code",
   "execution_count": 3,
   "id": "32cd8ff4-9c94-4de1-9e2e-d58a542bfa2d",
   "metadata": {},
   "outputs": [
    {
     "name": "stdout",
     "output_type": "stream",
     "text": [
      "[1, 4, 9, 16, 25]\n"
     ]
    }
   ],
   "source": [
    "# Q1. Given a list of numbers, use lambda to create a new list where each number is squared.\n",
    "numbers = [1, 2, 3, 4, 5]\n",
    "squared_numbers=list(map(lambda x: x**2,numbers))\n",
    "print(squared_numbers)"
   ]
  },
  {
   "cell_type": "code",
   "execution_count": 5,
   "id": "7dfe1f8f-d521-495e-ac87-f41a35a7eb79",
   "metadata": {},
   "outputs": [
    {
     "name": "stdout",
     "output_type": "stream",
     "text": [
      "['alice@gmail.com', 'bob@yahoo.com', 'charlie@company.org']\n"
     ]
    }
   ],
   "source": [
    "# Q2. Write a function that cleans a list of email addresses by removing extra whitespaces and converting to lowercase.\n",
    "# emails = [\"  Alice@Gmail.com  \", \"BOB@yahoo.COM\", \"  charlie@Company.org\"]\n",
    "def clean_emails(email_list):\n",
    "    return [email.strip().lower() for email in email_list]\n",
    "emails = [\"  Alice@Gmail.com  \", \"BOB@yahoo.COM\", \"  charlie@Company.org\"]\n",
    "cleaned_emails = clean_emails(emails)\n",
    "print(cleaned_emails)"
   ]
  },
  {
   "cell_type": "code",
   "execution_count": 19,
   "id": "d4d6c61f-f440-402b-8428-9c3c350900c5",
   "metadata": {},
   "outputs": [
    {
     "name": "stdin",
     "output_type": "stream",
     "text": [
      "Enter value: 500\n",
      "enter per increase (press enter for default) \n"
     ]
    },
    {
     "name": "stdout",
     "output_type": "stream",
     "text": [
      "result:550.0\n"
     ]
    }
   ],
   "source": [
    "#q3. Create a function that calculates a percentage increase with a default rate of 10%.\n",
    "def per_increase(value,rate=10):\n",
    "    return value + (value * rate/100)\n",
    "\n",
    "value=float(input(\"Enter value:\"))\n",
    "rate_input=input(\"enter per increase (press enter for default 10%)\")\n",
    "\n",
    "rate=float(rate_input) if rate_input.strip() else 10\n",
    "\n",
    "result = per_increase(value,rate)\n",
    "print(f\"result:{result}\")\n"
   ]
  },
  {
   "cell_type": "code",
   "execution_count": 21,
   "id": "9b018b09-745b-42cd-b091-4c831ec5d5d2",
   "metadata": {},
   "outputs": [
    {
     "name": "stdout",
     "output_type": "stream",
     "text": [
      "['Alice', 'Bob', 'Charlie']\n"
     ]
    }
   ],
   "source": [
    "#Q4. Given a list of dictionaries, use lambda to extract just the 'name' field from each dictionary.\n",
    "users = [\n",
    "    {\"name\": \"Alice\", \"age\": 25},\n",
    "    {\"name\": \"Bob\", \"age\": 30},\n",
    "    {\"name\": \"Charlie\", \"age\": 35}\n",
    "]\n",
    "\n",
    "names= list(map(lambda p: p[\"name\"], users))\n",
    "print(names)"
   ]
  },
  {
   "cell_type": "code",
   "execution_count": 29,
   "id": "21ac38c6-6ca3-4bdc-b766-8f1fe08607cf",
   "metadata": {},
   "outputs": [
    {
     "name": "stdout",
     "output_type": "stream",
     "text": [
      "sum: 0, Average: 0\n"
     ]
    }
   ],
   "source": [
    "#  Write a function that takes a list of numbers and returns both the sum and average.\n",
    "def sum_and_avg(numbers):\n",
    "    total=sum(numbers)\n",
    "    avg=total/len(numbers) if numbers else 0\n",
    "    return total, avg\n",
    "\n",
    "nums=[]\n",
    "total, avg =sum_and_avg(nums)\n",
    "print(f\"sum: {total}, Average: {avg}\")\n",
    "\n"
   ]
  },
  {
   "cell_type": "code",
   "execution_count": 31,
   "id": "e447dc98-e3dd-4662-9927-50fd5cc76629",
   "metadata": {},
   "outputs": [
    {
     "name": "stdout",
     "output_type": "stream",
     "text": [
      "['lap6', 'mou5', 'key8', 'mon7']\n"
     ]
    }
   ],
   "source": [
    "#Q6. Given a list of product names, use lambda to create a list of product codes (first 3 letters + length of name).\n",
    "products = [\"laptop\", \"mouse\", \"keyboard\", \"monitor\"]\n",
    "prod_codes_list=list(map(lambda x: x[:3].lower()+ str(len(x)),products))\n",
    "print(prod_codes_list)\n"
   ]
  },
  {
   "cell_type": "code",
   "execution_count": 39,
   "id": "f8b179bd-b434-41b6-8277-94d77e5ecd3e",
   "metadata": {},
   "outputs": [
    {
     "name": "stdout",
     "output_type": "stream",
     "text": [
      "['Minor', 'Adult', 'Adult', 'senior', 'Minor', 'Adult', 'senior']\n"
     ]
    }
   ],
   "source": [
    "#7.Use lambda to categorize ages into \"Minor\" (under 18), \"Adult\" (18-64), \"Senior\" (65+).\n",
    "ages = [15, 25, 45, 70, 12, 30, 68]\n",
    "category= lambda age: \"Minor\" if age< 18 else (\"Adult\" if age<65 else \"senior\")\n",
    "age_categories=list(map(category,ages))\n",
    "print(age_categories)"
   ]
  },
  {
   "cell_type": "code",
   "execution_count": null,
   "id": "acd91669-52be-46a0-affa-593f097d5813",
   "metadata": {},
   "outputs": [],
   "source": [
    "#Q8. Write a function that removes duplicates from a list while preserving order.\n"
   ]
  },
  {
   "cell_type": "code",
   "execution_count": null,
   "id": "7a5f5fc5-5ab0-4470-9e09-0363cefce07f",
   "metadata": {},
   "outputs": [],
   "source": [
    "#Q9. Given a list of user activities, use lambda to identify which users were active (logged in within last 7 days).\n",
    "#users = [\n",
    "    {\"name\": \"Alice\", \"last_login\": \"2025-01-01\"},\n",
    "    {\"name\": \"Bob\", \"last_login\": \"2025-08-9\"},\n",
    "    {\"name\": \"Charlie\", \"last_login\": \"2023-12-20\"}\n",
    "]"
   ]
  },
  {
   "cell_type": "code",
   "execution_count": 2,
   "id": "f9874f3c-0c8b-4e27-baa4-a8c1b134f962",
   "metadata": {},
   "outputs": [
    {
     "name": "stdin",
     "output_type": "stream",
     "text": [
      "Enter a string to check:  harika1312\n"
     ]
    },
    {
     "name": "stdout",
     "output_type": "stream",
     "text": [
      "Contains both letter and number? True\n"
     ]
    }
   ],
   "source": [
    "#Q10. Write a lambda expression that takes a string and returns True if it contains both a number and a letter.\n",
    "\n",
    "import re\n",
    "\n",
    "contains_number_and_letter = lambda s: bool((re.search('[A-Za-z]',s)) and bool(re.search('[0-9]',s)))\n",
    "user_input = input(\"Enter a string to check: \")\n",
    "result = contains_number_and_letter(user_input)\n",
    "\n",
    "print(f\"Contains both letter and number? {result}\")\n"
   ]
  },
  {
   "cell_type": "code",
   "execution_count": null,
   "id": "1bd8bc82-5493-41f2-8c05-264409230c44",
   "metadata": {},
   "outputs": [],
   "source": []
  }
 ],
 "metadata": {
  "kernelspec": {
   "display_name": "Python [conda env:base] *",
   "language": "python",
   "name": "conda-base-py"
  },
  "language_info": {
   "codemirror_mode": {
    "name": "ipython",
    "version": 3
   },
   "file_extension": ".py",
   "mimetype": "text/x-python",
   "name": "python",
   "nbconvert_exporter": "python",
   "pygments_lexer": "ipython3",
   "version": "3.12.7"
  }
 },
 "nbformat": 4,
 "nbformat_minor": 5
}
